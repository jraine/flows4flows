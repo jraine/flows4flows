{
 "cells": [
  {
   "cell_type": "code",
   "execution_count": 1,
   "id": "initial-stock",
   "metadata": {},
   "outputs": [],
   "source": [
    "%load_ext autoreload\n",
    "%autoreload 2"
   ]
  },
  {
   "cell_type": "code",
   "execution_count": 41,
   "id": "least-nation",
   "metadata": {},
   "outputs": [],
   "source": [
    "from utils import get_data, get_conditional_data\n",
    "from nflows.utils import tensor2numpy\n",
    "import pandas as pd\n",
    "import numpy as np\n",
    "import matplotlib.pyplot as plt\n",
    "from plot import set_bounds, plot_grid, no_tick_labels\n",
    "\n",
    "import matplotlib\n",
    "matplotlib.use('macosx')\n",
    "import matplotlib.pyplot as plt\n",
    "plt.switch_backend('macosx')"
   ]
  },
  {
   "cell_type": "code",
   "execution_count": 42,
   "id": "valued-lancaster",
   "metadata": {},
   "outputs": [],
   "source": [
    "def get_numpy_data(name, n_points):\n",
    "    return tensor2numpy(get_data(name, n_points).data)\n",
    "\n",
    "\n",
    "def get_cond_numpy_data(condition_type, name, n_points, condition=None):\n",
    "    data_obj = get_conditional_data(condition_type, name, n_points)\n",
    "    if condition is None:\n",
    "        data = data_obj.data\n",
    "        return tensor2numpy(data)        \n",
    "    else:\n",
    "        return data_obj._get_conditional(condition)[0]"
   ]
  },
  {
   "cell_type": "code",
   "execution_count": 43,
   "id": "ordered-strip",
   "metadata": {},
   "outputs": [],
   "source": [
    "datasets = [\n",
    "#         \"anulus\",\n",
    "        \"ring\",\n",
    "        \"concentricrings\",\n",
    "        \"fourcircles\",\n",
    "#         \"checkerboard\",\n",
    "#         \"spirals\",\n",
    "#         \"star\",\n",
    "#         \"eightstar\",\n",
    "    ]\n",
    "\n",
    "\n",
    "n_points = int(1e4)\n",
    "paths = {}\n",
    "for dd in datasets:\n",
    "    data = get_numpy_data(dd, n_points)\n",
    "    path = f'results/dummy/{dd}.h5'\n",
    "    paths[dd] = path\n",
    "    pd.DataFrame(data, columns=['left', 'right']).to_hdf(path, 'f4f')"
   ]
  },
  {
   "cell_type": "code",
   "execution_count": 44,
   "id": "speaking-studio",
   "metadata": {},
   "outputs": [
    {
     "data": {
      "text/plain": [
       "{'ring': 'results/dummy/ring.h5',\n",
       " 'concentricrings': 'results/dummy/concentricrings.h5',\n",
       " 'fourcircles': 'results/dummy/fourcircles.h5'}"
      ]
     },
     "execution_count": 44,
     "metadata": {},
     "output_type": "execute_result"
    }
   ],
   "source": [
    "paths"
   ]
  },
  {
   "cell_type": "code",
   "execution_count": 45,
   "id": "hungarian-cookbook",
   "metadata": {},
   "outputs": [],
   "source": [
    "# Make a fake from_to_target dictionary that can be used to build a grid of images\n",
    "grid = {}\n",
    "for inp in datasets:\n",
    "    for target in datasets:\n",
    "        grid[f'{inp}_to_{target}'] = paths[target]"
   ]
  },
  {
   "cell_type": "code",
   "execution_count": 46,
   "id": "virtual-sleeve",
   "metadata": {},
   "outputs": [
    {
     "data": {
      "text/plain": [
       "{'ring_to_ring': 'results/dummy/ring.h5',\n",
       " 'ring_to_concentricrings': 'results/dummy/concentricrings.h5',\n",
       " 'ring_to_fourcircles': 'results/dummy/fourcircles.h5',\n",
       " 'concentricrings_to_ring': 'results/dummy/ring.h5',\n",
       " 'concentricrings_to_concentricrings': 'results/dummy/concentricrings.h5',\n",
       " 'concentricrings_to_fourcircles': 'results/dummy/fourcircles.h5',\n",
       " 'fourcircles_to_ring': 'results/dummy/ring.h5',\n",
       " 'fourcircles_to_concentricrings': 'results/dummy/concentricrings.h5',\n",
       " 'fourcircles_to_fourcircles': 'results/dummy/fourcircles.h5'}"
      ]
     },
     "execution_count": 46,
     "metadata": {},
     "output_type": "execute_result"
    }
   ],
   "source": [
    "import pathlib\n",
    "n_points = int(1e4)\n",
    "nm = pathlib.Path('results/grid.pdf')\n",
    "key = 'f4f'\n",
    "columns = ['left', 'right']\n",
    "grid"
   ]
  },
  {
   "cell_type": "code",
   "execution_count": 47,
   "id": "powered-legislature",
   "metadata": {},
   "outputs": [],
   "source": [
    "plot_grid(grid, columns, nm)"
   ]
  },
  {
   "cell_type": "markdown",
   "id": "million-cement",
   "metadata": {},
   "source": [
    "#  Making conditional shifting plots"
   ]
  },
  {
   "cell_type": "code",
   "execution_count": 14,
   "id": "smaller-murray",
   "metadata": {},
   "outputs": [],
   "source": [
    "data_path = pathlib.Path('results/copied/rotating/four_circles/eval_data.h5')\n",
    "with pd.HDFStore(data_path) as hdf:\n",
    "    keys = hdf.keys()\n",
    "    \n",
    "data = {}\n",
    "for key in keys:\n",
    "    data[key] = pd.read_hdf(data_path, key=key)"
   ]
  },
  {
   "cell_type": "code",
   "execution_count": 15,
   "id": "spread-cornell",
   "metadata": {},
   "outputs": [
    {
     "data": {
      "text/plain": [
       "['/base_dist',\n",
       " '/f4f_0_17',\n",
       " '/f4f_0_33',\n",
       " '/f4f_0_50',\n",
       " '/f4f_0_67',\n",
       " '/f4f_0_83',\n",
       " '/f4f_1_00']"
      ]
     },
     "execution_count": 15,
     "metadata": {},
     "output_type": "execute_result"
    }
   ],
   "source": [
    "keys"
   ]
  },
  {
   "cell_type": "code",
   "execution_count": 53,
   "id": "pediatric-world",
   "metadata": {},
   "outputs": [
    {
     "data": {
      "text/html": [
       "<div>\n",
       "<style scoped>\n",
       "    .dataframe tbody tr th:only-of-type {\n",
       "        vertical-align: middle;\n",
       "    }\n",
       "\n",
       "    .dataframe tbody tr th {\n",
       "        vertical-align: top;\n",
       "    }\n",
       "\n",
       "    .dataframe thead th {\n",
       "        text-align: right;\n",
       "    }\n",
       "</style>\n",
       "<table border=\"1\" class=\"dataframe\">\n",
       "  <thead>\n",
       "    <tr style=\"text-align: right;\">\n",
       "      <th></th>\n",
       "      <th>cond_0_17_x</th>\n",
       "      <th>cond_0_17_y</th>\n",
       "      <th>cond_0_33_x</th>\n",
       "      <th>cond_0_33_y</th>\n",
       "      <th>cond_0_50_x</th>\n",
       "      <th>cond_0_50_y</th>\n",
       "      <th>cond_0_67_x</th>\n",
       "      <th>cond_0_67_y</th>\n",
       "      <th>cond_0_83_x</th>\n",
       "      <th>cond_0_83_y</th>\n",
       "      <th>cond_1_00_x</th>\n",
       "      <th>cond_1_00_y</th>\n",
       "    </tr>\n",
       "  </thead>\n",
       "  <tbody>\n",
       "    <tr>\n",
       "      <th>0</th>\n",
       "      <td>1.953567</td>\n",
       "      <td>-0.067639</td>\n",
       "      <td>0.402605</td>\n",
       "      <td>-0.126658</td>\n",
       "      <td>1.582242</td>\n",
       "      <td>-0.870633</td>\n",
       "      <td>-2.440760</td>\n",
       "      <td>-0.206228</td>\n",
       "      <td>-0.779793</td>\n",
       "      <td>-1.547221</td>\n",
       "      <td>1.180737</td>\n",
       "      <td>1.762966</td>\n",
       "    </tr>\n",
       "    <tr>\n",
       "      <th>1</th>\n",
       "      <td>0.319603</td>\n",
       "      <td>-0.459517</td>\n",
       "      <td>1.288053</td>\n",
       "      <td>-0.893241</td>\n",
       "      <td>-1.660053</td>\n",
       "      <td>0.897860</td>\n",
       "      <td>-2.389606</td>\n",
       "      <td>-0.562821</td>\n",
       "      <td>1.501377</td>\n",
       "      <td>-1.141023</td>\n",
       "      <td>2.021014</td>\n",
       "      <td>-0.776158</td>\n",
       "    </tr>\n",
       "    <tr>\n",
       "      <th>2</th>\n",
       "      <td>1.317849</td>\n",
       "      <td>-2.023931</td>\n",
       "      <td>-1.859925</td>\n",
       "      <td>0.473827</td>\n",
       "      <td>-0.797248</td>\n",
       "      <td>0.991506</td>\n",
       "      <td>0.798813</td>\n",
       "      <td>-1.047505</td>\n",
       "      <td>1.277512</td>\n",
       "      <td>-1.210241</td>\n",
       "      <td>-0.986413</td>\n",
       "      <td>-1.901521</td>\n",
       "    </tr>\n",
       "    <tr>\n",
       "      <th>3</th>\n",
       "      <td>-0.781796</td>\n",
       "      <td>-1.313114</td>\n",
       "      <td>0.703081</td>\n",
       "      <td>-0.039403</td>\n",
       "      <td>-1.606169</td>\n",
       "      <td>0.427412</td>\n",
       "      <td>-0.196846</td>\n",
       "      <td>1.011672</td>\n",
       "      <td>0.745172</td>\n",
       "      <td>-0.081470</td>\n",
       "      <td>-2.146607</td>\n",
       "      <td>-0.826128</td>\n",
       "    </tr>\n",
       "    <tr>\n",
       "      <th>4</th>\n",
       "      <td>-1.971639</td>\n",
       "      <td>0.860941</td>\n",
       "      <td>-1.645433</td>\n",
       "      <td>0.610468</td>\n",
       "      <td>-0.402735</td>\n",
       "      <td>-1.740190</td>\n",
       "      <td>2.039521</td>\n",
       "      <td>-0.583985</td>\n",
       "      <td>1.525279</td>\n",
       "      <td>-1.332822</td>\n",
       "      <td>-1.058404</td>\n",
       "      <td>-1.886294</td>\n",
       "    </tr>\n",
       "  </tbody>\n",
       "</table>\n",
       "</div>"
      ],
      "text/plain": [
       "   cond_0_17_x  cond_0_17_y  cond_0_33_x  cond_0_33_y  cond_0_50_x  \\\n",
       "0     1.953567    -0.067639     0.402605    -0.126658     1.582242   \n",
       "1     0.319603    -0.459517     1.288053    -0.893241    -1.660053   \n",
       "2     1.317849    -2.023931    -1.859925     0.473827    -0.797248   \n",
       "3    -0.781796    -1.313114     0.703081    -0.039403    -1.606169   \n",
       "4    -1.971639     0.860941    -1.645433     0.610468    -0.402735   \n",
       "\n",
       "   cond_0_50_y  cond_0_67_x  cond_0_67_y  cond_0_83_x  cond_0_83_y  \\\n",
       "0    -0.870633    -2.440760    -0.206228    -0.779793    -1.547221   \n",
       "1     0.897860    -2.389606    -0.562821     1.501377    -1.141023   \n",
       "2     0.991506     0.798813    -1.047505     1.277512    -1.210241   \n",
       "3     0.427412    -0.196846     1.011672     0.745172    -0.081470   \n",
       "4    -1.740190     2.039521    -0.583985     1.525279    -1.332822   \n",
       "\n",
       "   cond_1_00_x  cond_1_00_y  \n",
       "0     1.180737     1.762966  \n",
       "1     2.021014    -0.776158  \n",
       "2    -0.986413    -1.901521  \n",
       "3    -2.146607    -0.826128  \n",
       "4    -1.058404    -1.886294  "
      ]
     },
     "execution_count": 53,
     "metadata": {},
     "output_type": "execute_result"
    }
   ],
   "source": [
    "data[keys[0]].head()"
   ]
  },
  {
   "cell_type": "code",
   "execution_count": 17,
   "id": "seasonal-reflection",
   "metadata": {},
   "outputs": [
    {
     "data": {
      "text/html": [
       "<div>\n",
       "<style scoped>\n",
       "    .dataframe tbody tr th:only-of-type {\n",
       "        vertical-align: middle;\n",
       "    }\n",
       "\n",
       "    .dataframe tbody tr th {\n",
       "        vertical-align: top;\n",
       "    }\n",
       "\n",
       "    .dataframe thead th {\n",
       "        text-align: right;\n",
       "    }\n",
       "</style>\n",
       "<table border=\"1\" class=\"dataframe\">\n",
       "  <thead>\n",
       "    <tr style=\"text-align: right;\">\n",
       "      <th></th>\n",
       "      <th>input_x</th>\n",
       "      <th>input_y</th>\n",
       "      <th>left_cond</th>\n",
       "      <th>right_cond</th>\n",
       "      <th>transformed_x</th>\n",
       "      <th>transformed_y</th>\n",
       "      <th>left_enc_x</th>\n",
       "      <th>left_enc_y</th>\n",
       "      <th>base_transfer_x</th>\n",
       "      <th>base_transfer_y</th>\n",
       "    </tr>\n",
       "  </thead>\n",
       "  <tbody>\n",
       "    <tr>\n",
       "      <th>0</th>\n",
       "      <td>-0.682852</td>\n",
       "      <td>0.979322</td>\n",
       "      <td>0.0</td>\n",
       "      <td>0.166667</td>\n",
       "      <td>-0.549286</td>\n",
       "      <td>1.056929</td>\n",
       "      <td>0.738976</td>\n",
       "      <td>0.014081</td>\n",
       "      <td>-0.557524</td>\n",
       "      <td>1.053260</td>\n",
       "    </tr>\n",
       "    <tr>\n",
       "      <th>1</th>\n",
       "      <td>0.895165</td>\n",
       "      <td>-0.671559</td>\n",
       "      <td>0.0</td>\n",
       "      <td>0.166667</td>\n",
       "      <td>0.802765</td>\n",
       "      <td>-0.783456</td>\n",
       "      <td>-0.456827</td>\n",
       "      <td>0.536372</td>\n",
       "      <td>0.897547</td>\n",
       "      <td>-0.790018</td>\n",
       "    </tr>\n",
       "    <tr>\n",
       "      <th>2</th>\n",
       "      <td>0.607479</td>\n",
       "      <td>-0.691070</td>\n",
       "      <td>0.0</td>\n",
       "      <td>0.166667</td>\n",
       "      <td>0.514020</td>\n",
       "      <td>-0.762939</td>\n",
       "      <td>-0.412917</td>\n",
       "      <td>0.416268</td>\n",
       "      <td>0.536918</td>\n",
       "      <td>-0.742103</td>\n",
       "    </tr>\n",
       "    <tr>\n",
       "      <th>3</th>\n",
       "      <td>1.999558</td>\n",
       "      <td>0.426514</td>\n",
       "      <td>0.0</td>\n",
       "      <td>0.166667</td>\n",
       "      <td>2.040847</td>\n",
       "      <td>0.161854</td>\n",
       "      <td>1.190064</td>\n",
       "      <td>2.003976</td>\n",
       "      <td>2.064592</td>\n",
       "      <td>0.272072</td>\n",
       "    </tr>\n",
       "    <tr>\n",
       "      <th>4</th>\n",
       "      <td>0.625424</td>\n",
       "      <td>1.917708</td>\n",
       "      <td>0.0</td>\n",
       "      <td>0.166667</td>\n",
       "      <td>0.871498</td>\n",
       "      <td>1.821582</td>\n",
       "      <td>0.909688</td>\n",
       "      <td>1.848931</td>\n",
       "      <td>1.169721</td>\n",
       "      <td>1.743510</td>\n",
       "    </tr>\n",
       "  </tbody>\n",
       "</table>\n",
       "</div>"
      ],
      "text/plain": [
       "    input_x   input_y  left_cond  right_cond  transformed_x  transformed_y  \\\n",
       "0 -0.682852  0.979322        0.0    0.166667      -0.549286       1.056929   \n",
       "1  0.895165 -0.671559        0.0    0.166667       0.802765      -0.783456   \n",
       "2  0.607479 -0.691070        0.0    0.166667       0.514020      -0.762939   \n",
       "3  1.999558  0.426514        0.0    0.166667       2.040847       0.161854   \n",
       "4  0.625424  1.917708        0.0    0.166667       0.871498       1.821582   \n",
       "\n",
       "   left_enc_x  left_enc_y  base_transfer_x  base_transfer_y  \n",
       "0    0.738976    0.014081        -0.557524         1.053260  \n",
       "1   -0.456827    0.536372         0.897547        -0.790018  \n",
       "2   -0.412917    0.416268         0.536918        -0.742103  \n",
       "3    1.190064    2.003976         2.064592         0.272072  \n",
       "4    0.909688    1.848931         1.169721         1.743510  "
      ]
     },
     "execution_count": 17,
     "metadata": {},
     "output_type": "execute_result"
    }
   ],
   "source": [
    "data[keys[1]].head()"
   ]
  },
  {
   "cell_type": "code",
   "execution_count": 20,
   "id": "usual-adjustment",
   "metadata": {},
   "outputs": [],
   "source": [
    "grid = {'fourcircles': data_path}\n",
    "keys = ['/f4f_0_17', '/f4f_0_33', '/f4f_0_50', '/f4f_0_67', '/f4f_0_83', '/f4f_1_00']\n",
    "columns = ['transformed_x', 'transformed_y']\n",
    "n_points = int(1e6)\n",
    "nm = pathlib.Path('results/conditional_grid.pdf')\n",
    "\n",
    "\n",
    "grid = {'fourcircles': data_path}\n",
    "keys = ['/f4f_0_17', '/f4f_0_33', '/f4f_0_50', '/f4f_0_67', '/f4f_0_83', '/f4f_1_00']\n",
    "columns = ['base_transfer_x', 'base_transfer_y']\n",
    "n_points = int(1e6)\n",
    "nm = pathlib.Path('results/conditional_bd_transform.pdf')"
   ]
  },
  {
   "cell_type": "code",
   "execution_count": 21,
   "id": "conditional-occasion",
   "metadata": {},
   "outputs": [],
   "source": [
    "def add_2d_hist(axis, data):\n",
    "    axis.hist2d(data[:, 0], data[:, 1], bins=128)\n",
    "    set_bounds(axis)\n",
    "    \n",
    "    \n",
    "def add_2d_hist(ax, data, bins=50, bounds=None, clip_val=4):\n",
    "    count, xbins, ybins = np.histogram2d(data[:, 0], data[:, 1], bins=bins)\n",
    "    count[count == 0] = np.nan\n",
    "    if clip_val is None:\n",
    "        clip_val = np.nanquantile(count, 0.01)\n",
    "    ax.imshow(count.T,\n",
    "              origin='lower', aspect='auto',\n",
    "              extent=[xbins.min(), xbins.max(), ybins.min(), ybins.max()],\n",
    "              vmin=clip_val\n",
    "              )\n",
    "    set_bounds(ax, clip_val)\n",
    "\n",
    "N_inputs = len(grid)\n",
    "N_targets = len(keys)\n",
    "\n",
    "# Add one because we want to plot the data around the perimeter.\n",
    "fig, ax = plt.subplots(N_inputs, N_targets + 1,\n",
    "                       figsize=(5 * (N_targets + 1), 5 * N_inputs))\n",
    "\n",
    "if ax.ndim == 1:\n",
    "    ax = ax[np.newaxis, ...]\n",
    "\n",
    "for i, inp in enumerate(grid):\n",
    "    data = pd.read_hdf(data_path, key=keys[0])[['input_x', 'input_y']].to_numpy()\n",
    "    add_2d_hist(ax[i, 0], data)\n",
    "\n",
    "    for j, key in enumerate(keys):\n",
    "        data = pd.read_hdf(data_path, key=key)[columns].to_numpy()\n",
    "        add_2d_hist(ax[i, j + 1], data)\n",
    "\n",
    "# add a big axis, hide frame\n",
    "fig.add_subplot(111, frameon=False)\n",
    "# hide tick and tick label of the big axis\n",
    "plt.tick_params(labelcolor='none', which='both', top=False, bottom=False, left=False, right=False)\n",
    "plt.ylabel(\"Input\", fontsize=40)\n",
    "plt.title(\"Target\", fontsize=40, pad=30)\n",
    "\n",
    "fig.tight_layout()\n",
    "fig.savefig(nm)"
   ]
  },
  {
   "cell_type": "code",
   "execution_count": null,
   "id": "miniature-server",
   "metadata": {},
   "outputs": [],
   "source": []
  },
  {
   "cell_type": "markdown",
   "id": "corresponding-northwest",
   "metadata": {},
   "source": [
    "# making plot comparing base dist to flows for flow"
   ]
  },
  {
   "cell_type": "code",
   "execution_count": 22,
   "id": "associate-encyclopedia",
   "metadata": {},
   "outputs": [],
   "source": []
  },
  {
   "cell_type": "code",
   "execution_count": 26,
   "id": "developmental-envelope",
   "metadata": {},
   "outputs": [],
   "source": [
    "# Flow for flow model\n",
    "plt.rcParams['text.usetex'] = True\n",
    "grid = {'fourcircles': data_path}\n",
    "keys = ['/f4f_0_17', '/f4f_0_33', '/f4f_0_50', '/f4f_0_67', '/f4f_0_83', '/f4f_1_00']\n",
    "keys = ['/f4f_0_33', '/f4f_0_67', '/f4f_1_00']\n",
    "columns = ['transformed_x', 'transformed_y']\n",
    "n_points = int(1e6)\n",
    "nm = pathlib.Path('results/f4f_compare.pdf')\n",
    "clip_val = 3\n",
    "data_path = pathlib.Path('results/copied/rotating/four_circles/eval_data.h5')\n",
    "\n",
    "N_inputs = len(grid) + 2\n",
    "N_targets = len(keys)\n",
    "\n",
    "# Add one because we want to plot the data around the perimeter.\n",
    "fig, global_axes = plt.subplots(N_inputs, N_targets,\n",
    "                       figsize=(5 * (N_targets), 5 * N_inputs))\n",
    "\n",
    "# Show the data that is being targeted\n",
    "ax = global_axes[0]\n",
    "\n",
    "if ax.ndim == 1:\n",
    "    ax = ax[np.newaxis, ...]\n",
    "\n",
    "for i, inp in enumerate(grid):\n",
    "    for j, key in enumerate(keys):\n",
    "        rotation = float(key.split('_', 1)[-1].replace('_', '.')) * 45\n",
    "        data = get_cond_numpy_data('rotation', 'fourcircles', n_points, \n",
    "                                   condition=rotation)\n",
    "        add_2d_hist(ax[i, j], data, clip_val=clip_val)\n",
    "        ax[i, j].set_title(fr'${rotation:.0f}^\\circ$', fontsize=40)\n",
    "        no_ticks(ax[i, j])\n",
    "        \n",
    "ax[0, 0].set_ylabel('Data', fontsize=40)\n",
    "\n",
    "# Look at the base density samples\n",
    "ax = global_axes[1]\n",
    "\n",
    "if ax.ndim == 1:\n",
    "    ax = ax[np.newaxis, ...]\n",
    "\n",
    "for i, inp in enumerate(grid):\n",
    "    for j, key in enumerate(keys):\n",
    "        data = pd.read_hdf(data_path, key=key)[columns].to_numpy()\n",
    "        add_2d_hist(ax[i, j], data, clip_val=clip_val)\n",
    "#         rotation = float(key.split('_', 1)[-1].replace('_', '.')) * 45\n",
    "#         ax[i, j].set_title(fr'${rotation:.0f}^\\circ$', fontsize=40)\n",
    "        no_ticks(ax[i, j])\n",
    "        \n",
    "ax[0, 0].set_ylabel('Flow4Flow', fontsize=40)\n",
    "\n",
    "\n",
    "# Base desnity only\n",
    "# Settings\n",
    "key = '/base_dist'\n",
    "# columns = [[f'cond_{cond}_x', f'cond_{cond}_y'] for cond in \n",
    "#            ['0_17', '0_33', '0_50', '0_67', '0_83', '1_00']]\n",
    "columns = [[f'cond_{cond}_x', f'cond_{cond}_y'] for cond in \n",
    "           [key.split('_', 1)[-1] for key in keys]]\n",
    "# This was produced locally by loading the base density but not the flow4flow model\n",
    "data_path = pathlib.Path('results/copied/rotating/four_circles/base_density_eval_data.h5')\n",
    "\n",
    "# Script\n",
    "N_inputs = len(grid)\n",
    "N_targets = len(keys)\n",
    "\n",
    "ax = global_axes[2]\n",
    "\n",
    "if ax.ndim == 1:\n",
    "    ax = ax[np.newaxis, ...]\n",
    "\n",
    "for i, inp in enumerate(grid):\n",
    "    for j, clmns in enumerate(columns):\n",
    "        data = pd.read_hdf(data_path, key=key)[clmns].to_numpy()\n",
    "        add_2d_hist(ax[i, j], data, clip_val=clip_val, bins=100)\n",
    "        no_ticks(ax[i, j])\n",
    "        \n",
    "ax[0, 0].set_ylabel('Base Density', fontsize=40)\n",
    "\n",
    "fig.tight_layout()\n",
    "fig.savefig(nm)\n",
    "plt.rcParams['text.usetex'] = False"
   ]
  },
  {
   "cell_type": "code",
   "execution_count": 27,
   "id": "accessory-european",
   "metadata": {},
   "outputs": [
    {
     "ename": "NameError",
     "evalue": "name 'x' is not defined",
     "output_type": "error",
     "traceback": [
      "\u001b[0;31m---------------------------------------------------------------------------\u001b[0m",
      "\u001b[0;31mNameError\u001b[0m                                 Traceback (most recent call last)",
      "\u001b[0;32m<ipython-input-27-6fcf9dfbd479>\u001b[0m in \u001b[0;36m<module>\u001b[0;34m\u001b[0m\n\u001b[0;32m----> 1\u001b[0;31m \u001b[0mx\u001b[0m\u001b[0;34m\u001b[0m\u001b[0;34m\u001b[0m\u001b[0m\n\u001b[0m",
      "\u001b[0;31mNameError\u001b[0m: name 'x' is not defined"
     ]
    }
   ],
   "source": [
    "x"
   ]
  },
  {
   "cell_type": "markdown",
   "id": "incomplete-science",
   "metadata": {},
   "source": [
    "# Color grids"
   ]
  },
  {
   "cell_type": "code",
   "execution_count": 10,
   "id": "permanent-growth",
   "metadata": {},
   "outputs": [],
   "source": [
    "from plot import make_colormap, assign_colors, add_scatter\n",
    "import torch\n",
    "from scipy.stats import binned_statistic_2d"
   ]
  },
  {
   "cell_type": "code",
   "execution_count": 29,
   "id": "filled-partner",
   "metadata": {},
   "outputs": [
    {
     "name": "stdout",
     "output_type": "stream",
     "text": [
      "Saving\n",
      "Saved\n"
     ]
    }
   ],
   "source": [
    "# Flow for flow model\n",
    "plt.rcParams['text.usetex'] = True\n",
    "grid = {'fourcircles': data_path}\n",
    "keys = ['/f4f_0_17', '/f4f_0_33', '/f4f_0_50', '/f4f_0_67', '/f4f_0_83', '/f4f_1_00']\n",
    "keys = ['/f4f_0_33', '/f4f_0_67', '/f4f_1_00']\n",
    "n_points = int(1e6)\n",
    "clip_val = 3\n",
    "\n",
    "nm = pathlib.Path('results/f4f_color_compare_four_circles.pdf')\n",
    "data_path = pathlib.Path('results/copied/rotating/four_circles/eval_data.h5')\n",
    "\n",
    "clip_val = 2.5\n",
    "nm = pathlib.Path('results/f4f_color_compare_star.pdf')\n",
    "data_path = pathlib.Path('results/copied/rotating/star/eval_data.h5')\n",
    "\n",
    "N_inputs = len(grid) + 1\n",
    "N_targets = len(keys) + 1\n",
    "\n",
    "# Add one because we want to plot the data around the perimeter.\n",
    "fig, ax = plt.subplots(N_inputs, N_targets,\n",
    "                       figsize=(5 * (N_targets), 5 * N_inputs))\n",
    "\n",
    "# Look at the base density samples\n",
    "\n",
    "if ax.ndim == 1:\n",
    "    ax = ax[np.newaxis, ...]\n",
    "    \n",
    "n_points = int(1e6)\n",
    "indx = torch.randperm(int(1e6))\n",
    "    \n",
    "def add_color_axis(ax, df, columns, colors=None, bins=200):\n",
    "    data = torch.Tensor(df[columns].to_numpy())[indx][:n_points]\n",
    "    if colors is None:\n",
    "        img = make_colormap()\n",
    "        colors = assign_colors(img, data)\n",
    "    add_scatter(ax, data, colors, clip_val=clip_val)\n",
    "    no_ticks(ax)\n",
    "    return colors\n",
    "    \n",
    "# Plot the input distributions\n",
    "df = pd.read_hdf(data_path, key=keys[0])\n",
    "colors = add_color_axis(ax[0, 0], df, ['input_x', 'input_y'])\n",
    "add_color_axis(ax[1, 0], df, ['input_x', 'input_y'], colors=colors)\n",
    "ax[0, 0].set_title('Input Data', fontsize=40)\n",
    "ax[0, 0].set_ylabel('Flow4Flow', fontsize=40)\n",
    "ax[1, 0].set_ylabel('Base Distribution', fontsize=40)\n",
    "\n",
    "for j, key in enumerate(keys):\n",
    "    df = pd.read_hdf(data_path, key=key)\n",
    "    # flow for flow\n",
    "    add_color_axis(ax[0, j + 1], df, ['transformed_x', 'transformed_y'], colors=colors)\n",
    "    # BD transfer\n",
    "    add_color_axis(ax[1, j + 1], df, ['base_transfer_x', 'base_transfer_y'], colors=colors)\n",
    "    rotation = float(key.split('_', 1)[-1].replace('_', '.')) * 45\n",
    "    ax[0, j + 1].set_title(fr'${rotation:.0f}^\\circ$', fontsize=40)\n",
    "\n",
    "fig.tight_layout()\n",
    "fig.savefig(nm)\n",
    "plt.close(fig)\n",
    "plt.rcParams['text.usetex'] = False\n",
    "print('Saved') \n"
   ]
  },
  {
   "cell_type": "code",
   "execution_count": 32,
   "id": "focused-scenario",
   "metadata": {},
   "outputs": [],
   "source": [
    "from plot import conditional_color_grid\n",
    "\n",
    "\n",
    "keys = ['/f4f_0_17', '/f4f_0_33', '/f4f_0_50', '/f4f_0_67', '/f4f_0_83', '/f4f_1_00']\n",
    "keys = ['/f4f_0_33', '/f4f_0_67', '/f4f_1_00']\n",
    "\n",
    "clip_val = 2.5\n",
    "nm = pathlib.Path('results/f4f_color_compare_star.pdf')\n",
    "data_path = pathlib.Path('results/copied/rotating/star/eval_data.h5')\n",
    "conditional_color_grid(data_path, keys, nm, clip_val)"
   ]
  },
  {
   "cell_type": "code",
   "execution_count": 128,
   "id": "aerial-politics",
   "metadata": {},
   "outputs": [
    {
     "data": {
      "text/plain": [
       "0"
      ]
     },
     "execution_count": 128,
     "metadata": {},
     "output_type": "execute_result"
    }
   ],
   "source": [
    "np.sum(~np.isnan(pixelated[np.isnan(pixelated).any(-1)]))"
   ]
  },
  {
   "cell_type": "code",
   "execution_count": 110,
   "id": "third-employment",
   "metadata": {},
   "outputs": [
    {
     "ename": "IndexError",
     "evalue": "boolean index did not match indexed array along dimension 2; dimension is 3 but corresponding boolean dimension is 50",
     "output_type": "error",
     "traceback": [
      "\u001b[0;31m---------------------------------------------------------------------------\u001b[0m",
      "\u001b[0;31mIndexError\u001b[0m                                Traceback (most recent call last)",
      "\u001b[0;32m<ipython-input-110-4580dde25e56>\u001b[0m in \u001b[0;36m<module>\u001b[0;34m\u001b[0m\n\u001b[0;32m----> 1\u001b[0;31m \u001b[0mpixelated\u001b[0m\u001b[0;34m[\u001b[0m\u001b[0;34m...\u001b[0m\u001b[0;34m,\u001b[0m \u001b[0mnp\u001b[0m\u001b[0;34m.\u001b[0m\u001b[0misnan\u001b[0m\u001b[0;34m(\u001b[0m\u001b[0mpixelated\u001b[0m\u001b[0;34m)\u001b[0m\u001b[0;34m.\u001b[0m\u001b[0many\u001b[0m\u001b[0;34m(\u001b[0m\u001b[0;34m-\u001b[0m\u001b[0;36m1\u001b[0m\u001b[0;34m)\u001b[0m\u001b[0;34m]\u001b[0m\u001b[0;34m\u001b[0m\u001b[0;34m\u001b[0m\u001b[0m\n\u001b[0m",
      "\u001b[0;31mIndexError\u001b[0m: boolean index did not match indexed array along dimension 2; dimension is 3 but corresponding boolean dimension is 50"
     ]
    }
   ],
   "source": [
    "pixelated[..., np.isnan(pixelated).any(-1)]"
   ]
  },
  {
   "cell_type": "code",
   "execution_count": 78,
   "id": "turned-filename",
   "metadata": {},
   "outputs": [],
   "source": [
    "data = df[['input_x', 'input_y']].to_numpy()[indx.numpy()][:n_points]"
   ]
  },
  {
   "cell_type": "code",
   "execution_count": 80,
   "id": "dramatic-video",
   "metadata": {},
   "outputs": [
    {
     "name": "stdout",
     "output_type": "stream",
     "text": [
      "Saving\n"
     ]
    }
   ],
   "source": [
    "fig, ax = plt.subplots()\n",
    "\n",
    "plt.imshow(pixelated / 255)\n",
    "print('Saving')\n",
    "plt.savefig('results/f4f_color_compare_star.png')\n",
    "plt.close(fig)"
   ]
  },
  {
   "cell_type": "code",
   "execution_count": 72,
   "id": "amazing-renaissance",
   "metadata": {},
   "outputs": [],
   "source": [
    "pixelated[np.isnan(pixelated)] = 0"
   ]
  },
  {
   "cell_type": "markdown",
   "id": "unable-savage",
   "metadata": {},
   "source": [
    "# Checking spline initialisation"
   ]
  },
  {
   "cell_type": "code",
   "execution_count": 87,
   "id": "broke-profile",
   "metadata": {},
   "outputs": [],
   "source": [
    "from utils import get_activation, spline_inn\n",
    "import torch\n",
    "from plot import plot_arrays"
   ]
  },
  {
   "cell_type": "code",
   "execution_count": 88,
   "id": "blind-summit",
   "metadata": {},
   "outputs": [],
   "source": [
    "sv_dir = pathlib.Path('results/initialisations/')\n",
    "sv_dir.mkdir(exist_ok=True)"
   ]
  },
  {
   "cell_type": "code",
   "execution_count": 89,
   "id": "reflected-mentor",
   "metadata": {},
   "outputs": [],
   "source": [
    "# Using actual data it is easy to tell, but not so much with a gaussian\n",
    "data = torch.Tensor(data)"
   ]
  },
  {
   "cell_type": "code",
   "execution_count": 94,
   "id": "saved-female",
   "metadata": {},
   "outputs": [],
   "source": [
    "data = torch.randn(2 * int(1e5)).view(-1, 2)"
   ]
  },
  {
   "cell_type": "code",
   "execution_count": 95,
   "id": "placed-stanley",
   "metadata": {},
   "outputs": [],
   "source": [
    "mse_dist = []\n",
    "for i in range(10):\n",
    "    \n",
    "    transformer = spline_inn(2,\n",
    "                          nodes=128,\n",
    "                          num_blocks=2,\n",
    "                          num_stack=4,\n",
    "                          tail_bound=4.0,\n",
    "                          activation=get_activation('leaky_relu'),\n",
    "                          num_bins=8,\n",
    "                          context_features=1,\n",
    "                          flow_for_flow=True\n",
    "                          )\n",
    "    \n",
    "    with torch.no_grad():\n",
    "        trasnformed, _ = transformer(data)\n",
    "    mse_dist += [(((trasnformed - data) ** 2) ** 0.5).sum(-1).mean()]\n",
    "    plot_arrays({\n",
    "        'Input': data,\n",
    "        'Transform': trasnformed\n",
    "    }, sv_dir, f'run_{i}')"
   ]
  },
  {
   "cell_type": "code",
   "execution_count": 96,
   "id": "international-cardiff",
   "metadata": {},
   "outputs": [
    {
     "data": {
      "text/plain": [
       "[tensor(1.1199),\n",
       " tensor(2.1793),\n",
       " tensor(1.6284),\n",
       " tensor(1.7033),\n",
       " tensor(1.9216),\n",
       " tensor(1.1970),\n",
       " tensor(0.8968),\n",
       " tensor(0.8992),\n",
       " tensor(1.6787),\n",
       " tensor(1.2256)]"
      ]
     },
     "execution_count": 96,
     "metadata": {},
     "output_type": "execute_result"
    }
   ],
   "source": [
    "mse_dist"
   ]
  },
  {
   "cell_type": "code",
   "execution_count": null,
   "id": "advised-ethnic",
   "metadata": {},
   "outputs": [],
   "source": []
  }
 ],
 "metadata": {
  "kernelspec": {
   "display_name": "Python 3",
   "language": "python",
   "name": "python3"
  },
  "language_info": {
   "codemirror_mode": {
    "name": "ipython",
    "version": 3
   },
   "file_extension": ".py",
   "mimetype": "text/x-python",
   "name": "python",
   "nbconvert_exporter": "python",
   "pygments_lexer": "ipython3",
   "version": "3.9.6"
  }
 },
 "nbformat": 4,
 "nbformat_minor": 5
}
