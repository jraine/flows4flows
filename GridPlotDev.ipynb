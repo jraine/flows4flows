{
 "cells": [
  {
   "cell_type": "code",
   "execution_count": 1,
   "id": "initial-stock",
   "metadata": {},
   "outputs": [],
   "source": [
    "%load_ext autoreload\n",
    "%autoreload 2"
   ]
  },
  {
   "cell_type": "code",
   "execution_count": 1,
   "id": "least-nation",
   "metadata": {},
   "outputs": [],
   "source": [
    "from utils import get_data\n",
    "from nflows.utils import tensor2numpy\n",
    "import pandas as pd\n",
    "import numpy as np\n",
    "import matplotlib.pyplot as plt\n",
    "from plot import set_bounds, plot_grid\n",
    "\n",
    "import matplotlib\n",
    "matplotlib.use('macosx')\n",
    "import matplotlib.pyplot as plt\n",
    "plt.switch_backend('macosx')"
   ]
  },
  {
   "cell_type": "code",
   "execution_count": 2,
   "id": "valued-lancaster",
   "metadata": {},
   "outputs": [],
   "source": [
    "def get_numpy_data(name, n_points):\n",
    "    return tensor2numpy(get_data(name, n_points).data)"
   ]
  },
  {
   "cell_type": "code",
   "execution_count": 3,
   "id": "ordered-strip",
   "metadata": {},
   "outputs": [],
   "source": [
    "datasets = [\n",
    "#         \"anulus\",\n",
    "        \"ring\",\n",
    "        \"concentricrings\",\n",
    "        \"fourcircles\",\n",
    "#         \"checkerboard\",\n",
    "#         \"spirals\",\n",
    "#         \"star\",\n",
    "#         \"eightstar\",\n",
    "    ]\n",
    "\n",
    "\n",
    "n_points = int(1e4)\n",
    "paths = {}\n",
    "for dd in datasets:\n",
    "    data = get_numpy_data(dd, n_points)\n",
    "    path = f'results/dummy/{dd}.h5'\n",
    "    paths[dd] = path\n",
    "    pd.DataFrame(data, columns=['left', 'right']).to_hdf(path, 'f4f')"
   ]
  },
  {
   "cell_type": "code",
   "execution_count": 4,
   "id": "speaking-studio",
   "metadata": {},
   "outputs": [
    {
     "data": {
      "text/plain": [
       "{'ring': 'results/dummy/ring.h5',\n",
       " 'concentricrings': 'results/dummy/concentricrings.h5',\n",
       " 'fourcircles': 'results/dummy/fourcircles.h5'}"
      ]
     },
     "execution_count": 4,
     "metadata": {},
     "output_type": "execute_result"
    }
   ],
   "source": [
    "paths"
   ]
  },
  {
   "cell_type": "code",
   "execution_count": 5,
   "id": "hungarian-cookbook",
   "metadata": {},
   "outputs": [],
   "source": [
    "# Make a fake from_to_target dictionary that can be used to build a grid of images\n",
    "grid = {}\n",
    "for inp in datasets:\n",
    "    for target in datasets:\n",
    "        grid[f'{inp}_to_{target}'] = paths[target]"
   ]
  },
  {
   "cell_type": "code",
   "execution_count": 6,
   "id": "virtual-sleeve",
   "metadata": {},
   "outputs": [
    {
     "data": {
      "text/plain": [
       "{'ring_to_ring': 'results/dummy/ring.h5',\n",
       " 'ring_to_concentricrings': 'results/dummy/concentricrings.h5',\n",
       " 'ring_to_fourcircles': 'results/dummy/fourcircles.h5',\n",
       " 'concentricrings_to_ring': 'results/dummy/ring.h5',\n",
       " 'concentricrings_to_concentricrings': 'results/dummy/concentricrings.h5',\n",
       " 'concentricrings_to_fourcircles': 'results/dummy/fourcircles.h5',\n",
       " 'fourcircles_to_ring': 'results/dummy/ring.h5',\n",
       " 'fourcircles_to_concentricrings': 'results/dummy/concentricrings.h5',\n",
       " 'fourcircles_to_fourcircles': 'results/dummy/fourcircles.h5'}"
      ]
     },
     "execution_count": 6,
     "metadata": {},
     "output_type": "execute_result"
    }
   ],
   "source": [
    "import pathlib\n",
    "n_points = int(1e4)\n",
    "nm = pathlib.Path('results/grid.pdf')\n",
    "key = 'f4f'\n",
    "columns = ['left', 'right']\n",
    "grid"
   ]
  },
  {
   "cell_type": "code",
   "execution_count": 7,
   "id": "powered-legislature",
   "metadata": {},
   "outputs": [],
   "source": [
    "plot_grid(grid, columns, nm)"
   ]
  },
  {
   "cell_type": "code",
   "execution_count": 55,
   "id": "imperial-statement",
   "metadata": {},
   "outputs": [],
   "source": []
  },
  {
   "cell_type": "code",
   "execution_count": 65,
   "id": "corporate-windows",
   "metadata": {},
   "outputs": [],
   "source": [
    "# inps = []\n",
    "# trgts = []\n",
    "# for entry in grid:\n",
    "#     i, _, t = entry.split('_')\n",
    "#     inps += [i]\n",
    "#     trgts += [t]\n",
    "    \n",
    "# inps = np.unique(inps)\n",
    "# trgts = np.unique(trgts)\n",
    "\n",
    "# def add_2d_hist(axis, data):\n",
    "#     axis.hist2d(data[:, 0], data[:, 1])\n",
    "#     set_bounds(axis)\n",
    "\n",
    "\n",
    "# N_inputs = len(inps)\n",
    "# N_targets = len(trgts)\n",
    "\n",
    "# # Add one because we want to plot the data around the perimeter.\n",
    "# fig, ax = plt.subplots(N_inputs + 1, N_targets + 1, \n",
    "#                        figsize=(5 * (N_targets + 1), 5 * (N_inputs + 1)))\n",
    "# fig.delaxes(fig.axes[0])\n",
    "\n",
    "# for i, inp in enumerate(inps):\n",
    "#     data = get_numpy_data(inp, n_points)\n",
    "#     add_2d_hist(ax[i + 1, 0], data)\n",
    "    \n",
    "# for i, inp in enumerate(trgts):\n",
    "#     data = get_numpy_data(inp, n_points)\n",
    "#     add_2d_hist(ax[0, i + 1], data)\n",
    "    \n",
    "# for i, inp in enumerate(inps):\n",
    "#     for j, trgt in enumerate(trgts):\n",
    "#         data = pd.read_hdf(grid[f'{inp}_to_{trgt}'])[columns].to_numpy()\n",
    "#         add_2d_hist(ax[i + 1, j + 1], data)\n",
    "        \n",
    "# # add a big axis, hide frame\n",
    "# fig.add_subplot(111, frameon=False)\n",
    "# # hide tick and tick label of the big axis\n",
    "# plt.tick_params(labelcolor='none', which='both', top=False, bottom=False, left=False, right=False)\n",
    "# plt.ylabel(\"Input\", fontsize=40)\n",
    "# plt.title(\"Target\", fontsize=40, pad=30)\n",
    "    \n",
    "# fig.tight_layout()\n",
    "# fig.savefig(nm)"
   ]
  },
  {
   "cell_type": "code",
   "execution_count": null,
   "id": "smaller-murray",
   "metadata": {},
   "outputs": [],
   "source": []
  }
 ],
 "metadata": {
  "kernelspec": {
   "display_name": "Python 3",
   "language": "python",
   "name": "python3"
  },
  "language_info": {
   "codemirror_mode": {
    "name": "ipython",
    "version": 3
   },
   "file_extension": ".py",
   "mimetype": "text/x-python",
   "name": "python",
   "nbconvert_exporter": "python",
   "pygments_lexer": "ipython3",
   "version": "3.9.6"
  }
 },
 "nbformat": 4,
 "nbformat_minor": 5
}
